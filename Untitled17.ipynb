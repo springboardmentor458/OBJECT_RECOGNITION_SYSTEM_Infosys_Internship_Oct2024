{
  "nbformat": 4,
  "nbformat_minor": 0,
  "metadata": {
    "colab": {
      "provenance": [],
      "authorship_tag": "ABX9TyNCnROwaTUQyMHhP57sX2On",
      "include_colab_link": true
    },
    "kernelspec": {
      "name": "python3",
      "display_name": "Python 3"
    },
    "language_info": {
      "name": "python"
    }
  },
  "cells": [
    {
      "cell_type": "markdown",
      "metadata": {
        "id": "view-in-github",
        "colab_type": "text"
      },
      "source": [
        "<a href=\"https://colab.research.google.com/github/springboardmentor458/OBJECT_RECOGNITION_SYSTEM_Infosys_Internship_Oct2024/blob/Senthil-kumaran/Untitled17.ipynb\" target=\"_parent\"><img src=\"https://colab.research.google.com/assets/colab-badge.svg\" alt=\"Open In Colab\"/></a>"
      ]
    },
    {
      "cell_type": "code",
      "execution_count": 1,
      "metadata": {
        "colab": {
          "base_uri": "https://localhost:8080/"
        },
        "id": "JhmKZOKDy1yO",
        "outputId": "f991f65d-f2c2-413a-f2b0-3dd429b0fab4"
      },
      "outputs": [
        {
          "output_type": "stream",
          "name": "stdout",
          "text": [
            "Drive already mounted at /content/drive; to attempt to forcibly remount, call drive.mount(\"/content/drive\", force_remount=True).\n"
          ]
        }
      ],
      "source": [
        "from google.colab import drive\n",
        "drive.mount('/content/drive')"
      ]
    },
    {
      "cell_type": "code",
      "source": [
        "import albumentations as A\n",
        "from albumentations.pytorch import ToTensorV2\n",
        "from torch.utils.data import Dataset, DataLoader\n",
        "import cv2\n",
        "import numpy as np\n",
        "import torch\n",
        "import os\n",
        "import json"
      ],
      "metadata": {
        "id": "ydisi8sIzUFQ"
      },
      "execution_count": 4,
      "outputs": []
    },
    {
      "cell_type": "code",
      "source": [
        "pip install -U albumentations"
      ],
      "metadata": {
        "colab": {
          "base_uri": "https://localhost:8080/",
          "height": 718
        },
        "id": "vJ9VBpfrzmf8",
        "outputId": "9bb6edb9-fb67-4595-d6c1-82247f1687c1"
      },
      "execution_count": 3,
      "outputs": [
        {
          "output_type": "stream",
          "name": "stdout",
          "text": [
            "Requirement already satisfied: albumentations in /usr/local/lib/python3.10/dist-packages (1.4.20)\n",
            "Collecting albumentations\n",
            "  Downloading albumentations-1.4.21-py3-none-any.whl.metadata (31 kB)\n",
            "Requirement already satisfied: numpy>=1.24.4 in /usr/local/lib/python3.10/dist-packages (from albumentations) (1.26.4)\n",
            "Requirement already satisfied: scipy>=1.10.0 in /usr/local/lib/python3.10/dist-packages (from albumentations) (1.13.1)\n",
            "Requirement already satisfied: PyYAML in /usr/local/lib/python3.10/dist-packages (from albumentations) (6.0.2)\n",
            "Requirement already satisfied: pydantic>=2.7.0 in /usr/local/lib/python3.10/dist-packages (from albumentations) (2.9.2)\n",
            "Collecting albucore==0.0.20 (from albumentations)\n",
            "  Downloading albucore-0.0.20-py3-none-any.whl.metadata (5.3 kB)\n",
            "Requirement already satisfied: eval-type-backport in /usr/local/lib/python3.10/dist-packages (from albumentations) (0.2.0)\n",
            "Requirement already satisfied: opencv-python-headless>=4.9.0.80 in /usr/local/lib/python3.10/dist-packages (from albumentations) (4.10.0.84)\n",
            "Requirement already satisfied: stringzilla>=3.10.4 in /usr/local/lib/python3.10/dist-packages (from albucore==0.0.20->albumentations) (3.10.8)\n",
            "Collecting simsimd>=5.9.2 (from albucore==0.0.20->albumentations)\n",
            "  Downloading simsimd-6.0.5-cp310-cp310-manylinux_2_28_x86_64.whl.metadata (57 kB)\n",
            "\u001b[2K     \u001b[90m━━━━━━━━━━━━━━━━━━━━━━━━━━━━━━━━━━━━━━━━\u001b[0m \u001b[32m57.7/57.7 kB\u001b[0m \u001b[31m2.7 MB/s\u001b[0m eta \u001b[36m0:00:00\u001b[0m\n",
            "\u001b[?25hRequirement already satisfied: annotated-types>=0.6.0 in /usr/local/lib/python3.10/dist-packages (from pydantic>=2.7.0->albumentations) (0.7.0)\n",
            "Requirement already satisfied: pydantic-core==2.23.4 in /usr/local/lib/python3.10/dist-packages (from pydantic>=2.7.0->albumentations) (2.23.4)\n",
            "Requirement already satisfied: typing-extensions>=4.6.1 in /usr/local/lib/python3.10/dist-packages (from pydantic>=2.7.0->albumentations) (4.12.2)\n",
            "Downloading albumentations-1.4.21-py3-none-any.whl (227 kB)\n",
            "\u001b[2K   \u001b[90m━━━━━━━━━━━━━━━━━━━━━━━━━━━━━━━━━━━━━━━━\u001b[0m \u001b[32m227.9/227.9 kB\u001b[0m \u001b[31m13.4 MB/s\u001b[0m eta \u001b[36m0:00:00\u001b[0m\n",
            "\u001b[?25hDownloading albucore-0.0.20-py3-none-any.whl (12 kB)\n",
            "Downloading simsimd-6.0.5-cp310-cp310-manylinux_2_28_x86_64.whl (605 kB)\n",
            "\u001b[2K   \u001b[90m━━━━━━━━━━━━━━━━━━━━━━━━━━━━━━━━━━━━━━━━\u001b[0m \u001b[32m605.1/605.1 kB\u001b[0m \u001b[31m21.0 MB/s\u001b[0m eta \u001b[36m0:00:00\u001b[0m\n",
            "\u001b[?25hInstalling collected packages: simsimd, albucore, albumentations\n",
            "  Attempting uninstall: albucore\n",
            "    Found existing installation: albucore 0.0.19\n",
            "    Uninstalling albucore-0.0.19:\n",
            "      Successfully uninstalled albucore-0.0.19\n",
            "  Attempting uninstall: albumentations\n",
            "    Found existing installation: albumentations 1.4.20\n",
            "    Uninstalling albumentations-1.4.20:\n",
            "      Successfully uninstalled albumentations-1.4.20\n",
            "Successfully installed albucore-0.0.20 albumentations-1.4.21 simsimd-6.0.5\n"
          ]
        },
        {
          "output_type": "display_data",
          "data": {
            "application/vnd.colab-display-data+json": {
              "pip_warning": {
                "packages": [
                  "albucore",
                  "albumentations"
                ]
              },
              "id": "c59c9dee7052478692f585c15c367edc"
            }
          },
          "metadata": {}
        }
      ]
    },
    {
      "cell_type": "code",
      "source": [
        "import cv2\n",
        "import numpy as np\n",
        "from PIL import Image\n",
        "\n",
        "# Define the local file paths and annotations as lists\n",
        "original_images = [\"/content/drive/MyDrive/dataset/val2017/000000000872.jpg\"]\n",
        "original_annotations = ['/content/drive/MyDrive/dataset/instances_val2017.json-20241112T145854Z-001/instances_val2017.json/instances_val2017.json']\n",
        "\n",
        "# Define the processing function\n",
        "def process_data(imgs, anns):\n",
        "    processed_imgs = []\n",
        "    processed_anns = []\n",
        "\n",
        "    for img_path, ann in zip(imgs, anns):\n",
        "        # Read the image from the local path\n",
        "        img = cv2.imread(img_path)\n",
        "\n",
        "        # Check if the image is loaded successfully\n",
        "        if img is None:\n",
        "            print(f\"Error loading image at {img_path}\")\n",
        "            continue\n",
        "\n",
        "        # Convert to grayscale\n",
        "        gray_img = cv2.cvtColor(img, cv2.COLOR_BGR2GRAY)\n",
        "\n",
        "        # Convert to binary using thresholding\n",
        "        binary_img = cv2.threshold(gray_img, 0, 255, cv2.THRESH_BINARY_INV + cv2.THRESH_OTSU)[1]\n",
        "\n",
        "        # Resize image\n",
        "        resized_img = cv2.resize(img, (224, 224))\n",
        "\n",
        "        # Rotate if height > width\n",
        "        height, width, _ = img.shape\n",
        "        if height > width:\n",
        "            rotated_img = cv2.rotate(img, cv2.ROTATE_90_CLOCKWISE)\n",
        "        else:\n",
        "            rotated_img = img\n",
        "\n",
        "        # Sharpen the image\n",
        "        sharpened_img = cv2.GaussianBlur(rotated_img, (0, 0), sigmaX=1, sigmaY=1)\n",
        "        sharpened_img = cv2.addWeighted(rotated_img, 1.5, sharpened_img, -0.5, 0)\n",
        "\n",
        "        # Convert sharpened image to grayscale\n",
        "        bw_img = cv2.cvtColor(sharpened_img, cv2.COLOR_BGR2GRAY)\n",
        "\n",
        "        # Append all processed images and annotations\n",
        "        processed_imgs.extend([img, binary_img, resized_img, rotated_img, sharpened_img, bw_img])\n",
        "        processed_anns.extend([ann] * 6)\n",
        "\n",
        "    return processed_imgs, processed_anns\n",
        "\n",
        "# Call the processing function\n",
        "processed_imgs, processed_anns = process_data(original_images, original_annotations)\n",
        "\n",
        "# Example placeholder for `download_and_display` function\n",
        "def download_and_display(img_path, ann, image):\n",
        "    # Display or save the processed image (placeholder)\n",
        "    print(f\"Displaying image with annotation: {ann}\")\n",
        "    # Here, you could use cv2.imshow or another display method suitable for your environment\n",
        "    # e.g., cv2.imshow(\"Processed Image\", image)\n",
        "    # cv2.waitKey(0)  # Uncomment if using cv2.imshow\n",
        "\n",
        "# Display the processed images\n",
        "for i, (img, ann) in enumerate(zip(processed_imgs, processed_anns)):\n",
        "    download_and_display(original_images[0], ann, image=img)\n"
      ],
      "metadata": {
        "colab": {
          "base_uri": "https://localhost:8080/"
        },
        "id": "jUdS-HF32sLN",
        "outputId": "c065b556-8f81-4c68-8142-a84103aa35de"
      },
      "execution_count": 18,
      "outputs": [
        {
          "output_type": "stream",
          "name": "stdout",
          "text": [
            "Displaying image with annotation: /content/drive/MyDrive/dataset/instances_val2017.json-20241112T145854Z-001/instances_val2017.json/instances_val2017.json\n",
            "Displaying image with annotation: /content/drive/MyDrive/dataset/instances_val2017.json-20241112T145854Z-001/instances_val2017.json/instances_val2017.json\n",
            "Displaying image with annotation: /content/drive/MyDrive/dataset/instances_val2017.json-20241112T145854Z-001/instances_val2017.json/instances_val2017.json\n",
            "Displaying image with annotation: /content/drive/MyDrive/dataset/instances_val2017.json-20241112T145854Z-001/instances_val2017.json/instances_val2017.json\n",
            "Displaying image with annotation: /content/drive/MyDrive/dataset/instances_val2017.json-20241112T145854Z-001/instances_val2017.json/instances_val2017.json\n",
            "Displaying image with annotation: /content/drive/MyDrive/dataset/instances_val2017.json-20241112T145854Z-001/instances_val2017.json/instances_val2017.json\n"
          ]
        }
      ]
    },
    {
      "cell_type": "code",
      "source": [
        "import os\n",
        "\n",
        "# Path to the subfolder containing the images\n",
        "image_folder = r\"/content/drive/MyDrive/dataset/val2017\"\n",
        "\n",
        "# List the files in the subfolder\n",
        "files_in_subfolder = os.listdir(image_folder)\n",
        "print(files_in_subfolder)"
      ],
      "metadata": {
        "colab": {
          "base_uri": "https://localhost:8080/"
        },
        "id": "vXTdGstn14my",
        "outputId": "b83b6af3-3d5b-4d70-a082-3ad2ba1ce2ce"
      },
      "execution_count": 11,
      "outputs": [
        {
          "output_type": "stream",
          "name": "stdout",
          "text": [
            "['000000076625.jpg', '000000078032.jpg', '000000076731.jpg', '000000078915.jpg', '000000076547.jpg', '000000078170.jpg', '000000075393.jpg', '000000079034.jpg', '000000079014.jpg', '000000078843.jpg', '000000078426.jpg', '000000071226.jpg', '000000078959.jpg', '000000078420.jpg', '000000077595.jpg', '000000077396.jpg', '000000079188.jpg', '000000076261.jpg', '000000068933.jpg', '000000079229.jpg', '000000079031.jpg', '000000078823.jpg', '000000070048.jpg', '000000074457.jpg', '000000069795.jpg', '000000076416.jpg', '000000075612.jpg', '000000072795.jpg', '000000077460.jpg', '000000071711.jpg', '000000070254.jpg', '000000073702.jpg', '000000069213.jpg', '000000069106.jpg', '000000072813.jpg', '000000069138.jpg', '000000071451.jpg', '000000078565.jpg', '000000076211.jpg', '000000073153.jpg', '000000074256.jpg', '000000072281.jpg', '000000064898.jpg', '000000069224.jpg', '000000069356.jpg', '000000070739.jpg', '000000073533.jpg', '000000066926.jpg', '000000070229.jpg', '000000067310.jpg', '000000074209.jpg', '000000073946.jpg', '000000065455.jpg', '000000078748.jpg', '000000074860.jpg', '000000071756.jpg', '000000064462.jpg', '000000078404.jpg', '000000074646.jpg', '000000066231.jpg', '000000064868.jpg', '000000071877.jpg', '000000067534.jpg', '000000067213.jpg', '000000074200.jpg', '000000065798.jpg', '000000064523.jpg', '000000066706.jpg', '000000068765.jpg', '000000068387.jpg', '000000071938.jpg', '000000064499.jpg', '000000065485.jpg', '000000066635.jpg', '000000067406.jpg', '000000068833.jpg', '000000067616.jpg', '000000067180.jpg', '000000066561.jpg', '000000064574.jpg', '000000061333.jpg', '000000067315.jpg', '000000073326.jpg', '000000070158.jpg', '000000070774.jpg', '000000075456.jpg', '000000065074.jpg', '000000079144.jpg', '000000068286.jpg', '000000068628.jpg', '000000066886.jpg', '000000076417.jpg', '000000068078.jpg', '000000074733.jpg', '000000066523.jpg', '000000058655.jpg', '000000054123.jpg', '000000054967.jpg', '000000061268.jpg', '000000066135.jpg', '000000066841.jpg', '000000055528.jpg', '000000060347.jpg', '000000065288.jpg', '000000057027 (1).jpg', '000000059044.jpg', '000000060855.jpg', '000000066038.jpg', '000000060102.jpg', '000000066817.jpg', '000000076468.jpg', '000000057760 (1).jpg', '000000065736.jpg', '000000057027.jpg', '000000054654.jpg', '000000064495.jpg', '000000058539.jpg', '000000060770.jpg', '000000074058.jpg', '000000057760.jpg', '000000058029.jpg', '000000063552.jpg', '000000064084.jpg', '000000062355.jpg', '000000057244 (1).jpg', '000000061418.jpg', '000000059598.jpg', '000000061960.jpg', '000000064718.jpg', '000000063154.jpg', '000000063965.jpg', '000000057244.jpg', '000000068409.jpg', '000000060886.jpg', '000000054628.jpg', '000000055150.jpg', '000000058384.jpg', '000000060899.jpg', '000000062353.jpg', '000000061471.jpg', '000000056288.jpg', '000000058636.jpg', '000000063602.jpg', '000000066771.jpg', '000000058350.jpg', '000000057725 (1).jpg', '000000061171.jpg', '000000057672 (1).jpg', '000000057672.jpg', '000000062025.jpg', '000000056127.jpg', '000000050811.jpg', '000000061108.jpg', '000000060090.jpg', '000000060823.jpg', '000000057232 (1).jpg', '000000060507.jpg', '000000058111.jpg', '000000060449.jpg', '000000057725.jpg', '000000053909.jpg', '000000057597 (1).jpg', '000000058705.jpg', '000000059635.jpg', '000000057597.jpg', '000000051938.jpg', '000000061658.jpg', '000000057150 (1).jpg', '000000060835.jpg', '000000054605.jpg', '000000063047.jpg', '000000060363.jpg', '000000057238 (1).jpg', '000000057150.jpg', '000000058393.jpg', '000000064359.jpg', '000000055950.jpg', '000000057232.jpg', '000000057238.jpg', '000000053994.jpg', '000000051598.jpg', '000000053529.jpg', '000000050828.jpg', '000000054931.jpg', '000000065350.jpg', '000000056344.jpg', '000000049810.jpg', '000000068093.jpg', '000000052412.jpg', '000000053505.jpg', '000000056350.jpg', '000000060932.jpg', '000000059920.jpg', '000000051712.jpg', '000000059386.jpg', '000000051976.jpg', '000000049759.jpg', '000000051008.jpg', '000000054593.jpg', '000000055072.jpg', '000000061747.jpg', '000000049761.jpg', '000000052007.jpg', '000000051961.jpg', '000000055022.jpg', '000000050145.jpg', '000000056545.jpg', '000000051738.jpg', '000000046048.jpg', '000000052462.jpg', '000000074092.jpg', '000000052413.jpg', '000000052507.jpg', '000000043737.jpg', '000000051314.jpg', '000000052591.jpg', '000000050165.jpg', '000000052565.jpg', '000000050679.jpg', '000000046463 (1).jpg', '000000055002.jpg', '000000055299.jpg', '000000062808.jpg', '000000047801.jpg', '000000051326.jpg', '000000051610.jpg', '000000054592.jpg', '000000050149.jpg', '000000053624.jpg', '000000050380.jpg', '000000045596 (1).jpg', '000000054164.jpg', '000000052996.jpg', '000000047112 (1).jpg', '000000053626.jpg', '000000050331.jpg', '000000047112.jpg', '000000046463.jpg', '000000045596.jpg', '000000052891.jpg', '000000048924.jpg', '000000045090 (1).jpg', '000000050896.jpg', '000000045550 (1).jpg', '000000046378 (1).jpg', '000000067896.jpg', '000000049091.jpg', '000000046378.jpg', '000000046497 (1).jpg', '000000045090.jpg', '000000044068.jpg', '000000062554.jpg', '000000045229.jpg', '000000048555.jpg', '000000046497.jpg', '000000047571.jpg', '000000045550.jpg', '000000049060.jpg', '000000051309.jpg', '000000050006.jpg', '000000049259.jpg', '000000049269.jpg', '000000043816.jpg', '000000060052.jpg', '000000044260.jpg', '000000044590.jpg', '000000050326.jpg', '000000063740.jpg', '000000057149 (1).jpg', '000000048564.jpg', '000000045728.jpg', '000000055167.jpg', '000000048396.jpg', '000000057149.jpg', '000000047819.jpg', '000000073118.jpg', '000000047121 (1).jpg', '000000078266.jpg', '000000047585.jpg', '000000062692.jpg', '000000047121.jpg', '000000061584.jpg', '000000044195.jpg', '000000047769.jpg', '000000025181.jpg', '000000072852.jpg', '000000023781.jpg', '000000025393.jpg', '000000026204.jpg', '000000027982.jpg', '000000025394.jpg', '000000025986.jpg', '000000044279.jpg', '000000048153.jpg', '000000028452.jpg', '000000029187.jpg', '000000045070.jpg', '000000027768.jpg', '000000050844.jpg', '000000019432 (1).jpg', '000000028449.jpg', '000000023272.jpg', '000000022892.jpg', '000000023034.jpg', '000000022935.jpg', '000000025560.jpg', '000000019786 (1).jpg', '000000021604.jpg', '000000027932.jpg', '000000050943.jpg', '000000024027.jpg', '000000024144.jpg', '000000024567.jpg', '000000018575.jpg', '000000023899.jpg', '000000025139.jpg', '000000025096.jpg', '000000025386.jpg', '000000020059 (1).jpg', '000000019786.jpg', '000000019109 (1).jpg', '000000025228.jpg', '000000020059.jpg', '000000028285.jpg', '000000018737.jpg', '000000019432.jpg', '000000019109.jpg', '000000018770.jpg', '000000020333.jpg', '000000020107 (1).jpg', '000000021465.jpg', '000000021903.jpg', '000000018837.jpg', '000000019742 (1).jpg', '000000022479.jpg', '000000020107.jpg', '000000019221 (1).jpg', '000000023023.jpg', '000000022192.jpg', '000000022396.jpg', '000000019402 (1).jpg', '000000019402.jpg', '000000019924 (1).jpg', '000000019221.jpg', '000000023230.jpg', '000000028993.jpg', '000000018380.jpg', '000000019742.jpg', '000000022623.jpg', '000000019924.jpg', '000000015497.jpg', '000000020571.jpg', '000000022705.jpg', '000000021167.jpg', '000000022589.jpg', '000000015272.jpg', '000000022371.jpg', '000000050638.jpg', '000000017207.jpg', '000000023126.jpg', '000000017436.jpg', '000000015254.jpg', '000000017178.jpg', '000000015338.jpg', '000000017182.jpg', '000000020992.jpg', '000000018519.jpg', '000000015335.jpg', '000000017627.jpg', '000000025057.jpg', '000000015079.jpg', '000000022755.jpg', '000000017379.jpg', '000000015597.jpg', '000000015660.jpg', '000000014888.jpg', '000000015751.jpg', '000000016451.jpg', '000000017899.jpg', '000000021879.jpg', '000000014439.jpg', '000000016598.jpg', '000000026690.jpg', '000000021503.jpg', '000000014038.jpg', '000000012670.jpg', '000000017959.jpg', '000000026564.jpg', '000000016249.jpg', '000000010707.jpg', '000000015278.jpg', '000000017714.jpg', '000000018833.jpg', '000000020247 (1).jpg', '000000019042.jpg', '000000021839.jpg', '000000017031.jpg', '000000018150.jpg', '000000024243.jpg', '000000020247.jpg', '000000010995.jpg', '000000022969.jpg', '000000011122.jpg', '000000017115.jpg', '000000027972.jpg', '000000024610.jpg', '000000025593.jpg', '000000013201.jpg', '000000012062.jpg', '000000015956.jpg', '000000012576.jpg', '000000016010.jpg', '000000016958.jpg', '000000013546.jpg', '000000007816.jpg', '000000011699.jpg', '000000013659.jpg', '000000006763.jpg', '000000012667.jpg', '000000016502.jpg', '000000027696.jpg', '000000013348.jpg', '000000011197.jpg', '000000013923.jpg', '000000011760.jpg', '000000011051.jpg', '000000010977.jpg', '000000010583.jpg', '000000009400.jpg', '000000006954.jpg', '000000012280.jpg', '000000014007.jpg', '000000013729.jpg', '000000013597.jpg', '000000009914.jpg', '000000012748.jpg', '000000014380.jpg', '000000009448.jpg', '000000008899.jpg', '000000009769.jpg', '000000007574.jpg', '000000006460.jpg', '000000008762.jpg', '000000007108.jpg', '000000012639.jpg', '000000007386.jpg', '000000010764.jpg', '000000008629.jpg', '000000018491.jpg', '000000017029.jpg', '000000052017.jpg', '000000011615.jpg', '000000009772.jpg', '000000010363.jpg', '000000007818.jpg', '000000020553.jpg', '000000006894.jpg', '000000007511.jpg', '000000009590.jpg', '000000013177.jpg', '000000010092.jpg', '000000013291.jpg', '000000002299.jpg', '000000008277.jpg', '000000006614.jpg', '000000015440.jpg', '000000006213.jpg', '000000007278.jpg', '000000008844.jpg', '000000003156.jpg', '000000007784.jpg', '000000006818.jpg', '000000016439.jpg', '000000002592.jpg', '000000006471.jpg', '000000003553.jpg', '000000007977.jpg', '000000004134.jpg', '000000006012.jpg', '000000004495.jpg', '000000009378.jpg', '000000015517.jpg', '000000007088.jpg', '000000006040.jpg', '000000007991.jpg', '000000005037.jpg', '000000014226.jpg', '000000014473.jpg', '000000004795.jpg', '000000008021.jpg', '000000005060.jpg', '000000003661.jpg', '000000011813.jpg', '000000001584.jpg', '000000013004.jpg', '000000000139.jpg', '000000017905.jpg', '000000002587.jpg', '000000012120.jpg', '000000004395.jpg', '000000002685.jpg', '000000015746.jpg', '000000001353.jpg', '000000001532.jpg', '000000001268.jpg', '000000002261.jpg', '000000003934.jpg', '000000003501.jpg', '000000003255.jpg', '000000018193.jpg', '000000001675.jpg', '000000004765.jpg', '000000024919.jpg', '000000000724.jpg', '000000000285.jpg', '000000002431.jpg', '000000002473.jpg', '000000011149.jpg', '000000002157.jpg', '000000005503.jpg', '000000005477.jpg', '000000000802.jpg', '000000002923.jpg', '000000001993.jpg', '000000001818.jpg', '000000005001.jpg', '000000001000.jpg', '000000000632.jpg', '000000005193.jpg', '000000002532.jpg', '000000001425.jpg', '000000005600.jpg', '000000007281.jpg', '000000005992.jpg', '000000009483.jpg', '000000013774.jpg', '000000005586.jpg', '000000002153.jpg', '000000003845.jpg', '000000045472 (1).jpg', '000000046252 (1).jpg', '000000006771.jpg', '000000009891.jpg', '000000016228.jpg', '000000011511.jpg', '000000044877.jpg', '000000001296.jpg', '000000046252.jpg', '000000047828.jpg', '000000046031.jpg', '000000045472.jpg', '000000001503.jpg', '000000007888.jpg', '000000008532.jpg', '000000000776.jpg', '000000046804 (1).jpg', '000000006723.jpg', '000000008690.jpg', '000000001761.jpg', '000000046872 (1).jpg', '000000046872.jpg', '000000047740.jpg', '000000046804.jpg', '000000044652.jpg', '000000000885.jpg', '000000047010 (1).jpg', '000000044699.jpg', '000000038829.jpg', '000000048504.jpg', '000000008211.jpg', '000000047010.jpg', '000000002006.jpg', '000000000872.jpg', '000000000785.jpg', '000000001490.jpg', '000000005529.jpg', '000000043314.jpg', '000000014831.jpg', '000000040036.jpg', '000000041635.jpg', '000000039405.jpg', '000000041488.jpg', '000000040083.jpg', '000000042528.jpg', '000000039484.jpg', '000000041633.jpg', '000000039477.jpg', '000000040471.jpg', '000000042070.jpg', '000000043435.jpg', '000000042296.jpg', '000000043581.jpg', '000000041888.jpg', '000000039785 (1).jpg', '000000007795.jpg', '000000039785.jpg', '000000042102.jpg', '000000042889.jpg', '000000039956.jpg', '000000040757.jpg', '000000039914.jpg', '000000042628.jpg', '000000042178.jpg', '000000041872.jpg', '000000039551.jpg', '000000042563.jpg', '000000038825.jpg', '000000039951.jpg', '000000002149.jpg', '000000039769.jpg', '000000041990.jpg', '000000036660 (1).jpg', '000000036660.jpg', '000000034257.jpg', '000000034417.jpg', '000000039670 (1).jpg', '000000039480.jpg', '000000035197.jpg', '000000034139.jpg', '000000039670.jpg', '000000037988.jpg', '000000042888.jpg', '000000037670.jpg', '000000042276.jpg', '000000033759.jpg', '000000034205.jpg', '000000035062.jpg', '000000034452.jpg', '000000036539 (1).jpg', '000000038070.jpg', '000000038576.jpg', '000000036539.jpg', '000000035682 (1).jpg', '000000035682.jpg', '000000035963 (1).jpg', '000000035963.jpg', '000000036861.jpg', '000000035279.jpg', '000000038678.jpg', '000000037751.jpg', '000000036936.jpg', '000000034071.jpg', '000000038048.jpg', '000000037689.jpg', '000000036844 (1).jpg', '000000037777.jpg', '000000035326 (1).jpg', '000000033854.jpg', '000000035326.jpg', '000000036844.jpg', '000000035770 (1).jpg', '000000036678 (1).jpg', '000000035770.jpg', '000000036678.jpg', '000000032570.jpg', '000000031217.jpg', '000000037740.jpg', '000000038210.jpg', '000000034760.jpg', '000000031269.jpg', '000000032081 (1).jpg', '000000032038 (1).jpg', '000000029675.jpg', '000000032038.jpg', '000000032081.jpg', '000000033005.jpg', '000000030675.jpg', '000000031620 (1).jpg', '000000031620.jpg', '000000034873.jpg', '000000036494 (1).jpg', '000000030504.jpg', '000000033368.jpg', '000000036494.jpg', '000000033638.jpg', '000000031050.jpg', '000000031322 (1).jpg', '000000032610.jpg', '000000038118.jpg', '000000031322.jpg', '000000029640.jpg', '000000032285 (1).jpg', '000000032941.jpg', '000000033221.jpg', '000000030494.jpg', '000000033707.jpg', '000000032285.jpg', '000000029393.jpg', '000000031735 (1).jpg', '000000029596.jpg', '000000033114.jpg', '000000032817.jpg', '000000031735.jpg', '000000031118.jpg', '000000032735.jpg', '000000032901.jpg', '000000032861.jpg', '000000032334 (1).jpg', '000000031749 (1).jpg', '000000031817 (1).jpg', '000000032811.jpg', '000000031749.jpg', '000000031817.jpg', '000000032334.jpg', '000000031296 (1).jpg', '000000031093.jpg', '000000031296.jpg', '000000029397.jpg', '000000030785.jpg', '000000033109.jpg', '000000025603.jpg', '000000031248.jpg', '000000023751.jpg', '000000027620.jpg', '000000024021.jpg', '000000028809.jpg', '000000026926.jpg', '000000030213.jpg', '000000023359.jpg', '000000027186.jpg', '000000023937.jpg', '000000030828.jpg', '000000029984.jpg', '000000032887.jpg', '000000025424.jpg', '000000023666.jpg', '000000026941.jpg', '000000026465.jpg', '000000033104.jpg']\n"
          ]
        }
      ]
    },
    {
      "cell_type": "code",
      "source": [
        "import cv2\n",
        "import numpy as np\n",
        "from PIL import Image\n",
        "\n",
        "def process_images(original_images, original_annotations):\n",
        "    processed_images = []\n",
        "    processed_annotations = []\n",
        "\n",
        "    for img_path, annotation in zip(original_images, original_annotations):\n",
        "        # Load the image from a local path\n",
        "        img = cv2.imread(img_path)\n",
        "\n",
        "        # Check if the image was loaded correctly\n",
        "        if img is None:\n",
        "            print(f\"Error loading image at {img_path}\")\n",
        "            continue\n",
        "\n",
        "        # Convert to grayscale\n",
        "        gray_img = cv2.cvtColor(img, cv2.COLOR_BGR2GRAY)\n",
        "\n",
        "        # Apply binary thresholding\n",
        "        binary_img = cv2.threshold(gray_img, 0, 255, cv2.THRESH_BINARY_INV + cv2.THRESH_OTSU)[1]\n",
        "\n",
        "        # Resize image\n",
        "        resized_img = cv2.resize(img, (224, 224))\n",
        "\n",
        "        # Rotate if height > width\n",
        "        height, width, _ = img.shape\n",
        "        if height > width:\n",
        "            rotated_img = cv2.rotate(img, cv2.ROTATE_90_CLOCKWISE)\n",
        "        else:\n",
        "            rotated_img = img\n",
        "\n",
        "        # Sharpen the image to reduce blurriness\n",
        "        sharpened_img = cv2.GaussianBlur(rotated_img, (0, 0), sigmaX=1, sigmaY=1)\n",
        "        sharpened_img = cv2.addWeighted(rotated_img, 1.5, sharpened_img, -0.5, 0)\n",
        "\n",
        "        # Convert the sharpened image to grayscale (black and white)\n",
        "        bw_img = cv2.cvtColor(sharpened_img, cv2.COLOR_BGR2GRAY)\n",
        "\n",
        "        # Add processed images and annotations to lists\n",
        "        processed_images.extend([img, binary_img, resized_img, rotated_img, sharpened_img, bw_img])\n",
        "        processed_annotations.extend([annotation] * 6)\n",
        "\n",
        "    return processed_images, processed_annotations\n",
        "\n",
        "# Example image paths and annotations\n",
        "original_images = [\"/content/drive/MyDrive/dataset/val2017/000000000872.jpg\"]\n",
        "original_annotations = ['Annotation for image 1']\n",
        "\n",
        "# Process the images\n",
        "processed_images, processed_annotations = process_images(original_images, original_annotations)\n",
        "\n",
        "# Define a placeholder `download_and_display` function\n",
        "def download_and_display(img_path, annotation, image):\n",
        "    print(f\"Displaying processed image for {img_path} with annotation: {annotation}\")\n",
        "    # Example display using OpenCV (uncomment if running in an environment that supports cv2.imshow)\n",
        "    # cv2.imshow(\"Processed Image\", image)\n",
        "    # cv2.waitKey(0)\n",
        "    # cv2.destroyAllWindows()\n",
        "\n",
        "# Display the processed images\n",
        "for i, (img, annotation) in enumerate(zip(processed_images, processed_annotations)):\n",
        "    download_and_display(original_images[0], annotation, image=img)\n"
      ],
      "metadata": {
        "colab": {
          "base_uri": "https://localhost:8080/"
        },
        "id": "yo9trVtr3tE9",
        "outputId": "b62402fd-5a33-4c91-e926-1e5975cc9722"
      },
      "execution_count": 20,
      "outputs": [
        {
          "output_type": "stream",
          "name": "stdout",
          "text": [
            "Displaying processed image for /content/drive/MyDrive/dataset/val2017/000000000872.jpg with annotation: Annotation for image 1\n",
            "Displaying processed image for /content/drive/MyDrive/dataset/val2017/000000000872.jpg with annotation: Annotation for image 1\n",
            "Displaying processed image for /content/drive/MyDrive/dataset/val2017/000000000872.jpg with annotation: Annotation for image 1\n",
            "Displaying processed image for /content/drive/MyDrive/dataset/val2017/000000000872.jpg with annotation: Annotation for image 1\n",
            "Displaying processed image for /content/drive/MyDrive/dataset/val2017/000000000872.jpg with annotation: Annotation for image 1\n",
            "Displaying processed image for /content/drive/MyDrive/dataset/val2017/000000000872.jpg with annotation: Annotation for image 1\n"
          ]
        }
      ]
    },
    {
      "cell_type": "code",
      "source": [
        "import os\n",
        "import cv2\n",
        "import torch\n",
        "import numpy as np\n",
        "from torch.utils.data import Dataset\n",
        "\n",
        "class CocoDataset(Dataset):\n",
        "    def __init__(self, images, annotations, category_map, image_dir, transform=None):\n",
        "        \"\"\"\n",
        "        Custom dataset for COCO-like dataset.\n",
        "\n",
        "        Args:\n",
        "            images (list): List of images in the dataset.\n",
        "            annotations (list): List of annotations for each image.\n",
        "            category_map (dict): Mapping of category IDs to category names.\n",
        "            image_dir (str): Directory path where images are stored.\n",
        "            transform (callable, optional): Transformations to be applied to images and annotations.\n",
        "        \"\"\"\n",
        "        self.images = images\n",
        "        self.annotations = annotations\n",
        "        self.category_map = category_map\n",
        "        self.image_dir = image_dir\n",
        "        self.transform = transform\n",
        "        self.image_annotations = self._map_annotations_to_images()\n",
        "\n",
        "    def _map_annotations_to_images(self):\n",
        "        \"\"\"\n",
        "        Groups annotations by image ID.\n",
        "\n",
        "        Returns:\n",
        "            dict: Mapping from image IDs to their respective annotations.\n",
        "        \"\"\"\n",
        "        annotation_map = {}\n",
        "        for annotation in self.annotations:\n",
        "            image_id = annotation['image_id']\n",
        "            if image_id not in annotation_map:\n",
        "                annotation_map[image_id] = []\n",
        "            annotation_map[image_id].append(annotation)\n",
        "        return annotation_map\n",
        "\n",
        "    def __len__(self):\n",
        "        return len(self.images)\n",
        "\n",
        "    def __getitem__(self, idx):\n",
        "        \"\"\"\n",
        "        Returns an image and its annotations as a dictionary.\n",
        "\n",
        "        Args:\n",
        "            idx (int): Index of the image.\n",
        "\n",
        "        Returns:\n",
        "            tuple: (image, target) where image is the transformed image, and target is a dictionary containing bounding boxes and labels.\n",
        "        \"\"\"\n",
        "        image_info = self.images[idx]\n",
        "        img_path = os.path.join(self.image_dir, image_info['file_name'])\n",
        "        image = cv2.imread(img_path)\n",
        "        image = cv2.cvtColor(image, cv2.COLOR_BGR2RGB)\n",
        "\n",
        "        # Get annotations for the image\n",
        "        image_id = image_info['id']\n",
        "        annotations = self.image_annotations.get(image_id, [])\n",
        "\n",
        "        boxes = []\n",
        "        labels = []\n",
        "        for ann in annotations:\n",
        "            x, y, width, height = ann['bbox']\n",
        "            boxes.append([x, y, x + width, y + height])\n",
        "            labels.append(ann['category_id'])\n",
        "\n",
        "        # Convert boxes and labels to numpy arrays\n",
        "        boxes = np.array(boxes)\n",
        "        labels = np.array(labels)\n",
        "\n",
        "        # Apply transformations if any\n",
        "        if self.transform:\n",
        "            transformed = self.transform(image=image, bboxes=boxes, labels=labels)\n",
        "            image = transformed['image']\n",
        "            boxes = transformed['bboxes']\n",
        "            labels = transformed['labels']\n",
        "\n",
        "        # Convert to PyTorch tensors\n",
        "        boxes = torch.tensor(boxes, dtype=torch.float32)\n",
        "        labels = torch.tensor(labels, dtype=torch.int64)\n",
        "        target = {\"boxes\": boxes, \"labels\": labels}\n",
        "\n",
        "        return image, target\n",
        "\n",
        "    def get_image_info(self, idx):\n",
        "        \"\"\"\n",
        "        Returns metadata for a specific image.\n",
        "\n",
        "        Args:\n",
        "            idx (int): Index of the image.\n",
        "\n",
        "        Returns:\n",
        "            dict: Metadata for the image.\n",
        "        \"\"\"\n",
        "        return self.images[idx]\n",
        "\n",
        "    def visualize_image(self, idx):\n",
        "        \"\"\"\n",
        "        Displays an image along with its bounding boxes.\n",
        "\n",
        "        Args:\n",
        "            idx (int): Index of the image.\n",
        "        \"\"\"\n",
        "        import matplotlib.pyplot as plt\n",
        "        import matplotlib.patches as patches\n",
        "\n",
        "        image, target = self[idx]\n",
        "        boxes = target['boxes'].numpy()\n",
        "        labels = target['labels'].numpy()\n",
        "\n",
        "        fig, ax = plt.subplots(1)\n",
        "        ax.imshow(image)\n",
        "\n",
        "        for box, label in zip(boxes, labels):\n",
        "            x, y, x2, y2 = box\n",
        "            width, height = x2 - x, y2 - y\n",
        "            rect = patches.Rectangle((x, y), width, height, linewidth=2, edgecolor='r', facecolor='none')\n",
        "            ax.add_patch(rect)\n",
        "            ax.text(x, y, self.category_map[label], color='white', verticalalignment='top', bbox=dict(facecolor='red', alpha=0.5))\n",
        "\n",
        "        plt.axis('off')\n",
        "        plt.show()\n",
        "\n",
        "    def __repr__(self):\n",
        "        return f\"CocoDataset(num_images={len(self.images)}, num_annotations={len(self.annotations)}, image_dir='{self.image_dir}')\"\n"
      ],
      "metadata": {
        "id": "a7V6V1cn4O2Q"
      },
      "execution_count": 24,
      "outputs": []
    },
    {
      "cell_type": "code",
      "source": [
        "images = [\n",
        "    {\"id\": 1, \"file_name\": \"000000000872.jpg\"},\n",
        "    # Add more image metadata dictionaries as needed\n",
        "]\n",
        "annotations = [\n",
        "    {\"image_id\": 1, \"bbox\": [100, 200, 50, 75], \"category_id\": 1},\n",
        "    # Add more annotations as needed\n",
        "]\n",
        "category_map = {\n",
        "    1: \"person\",\n",
        "    # Add more category mappings as needed\n",
        "}\n",
        "# Set your directory path for images\n",
        "image_dir = \"/content/drive/MyDrive/Colab Notebooks/images\"  # Example path; adjust to your actual directory\n",
        "\n",
        "# Initialize the dataset\n",
        "dataset = CocoDataset(images, annotations, category_map, image_dir)\n",
        "\n",
        "# Test visualizing the first image\n",
        "dataset.visualize_image(0)\n",
        "images = [{\"id\": 1, \"file_name\": \"000000000872.jpg\"}]\n",
        "annotations = [{\"image_id\": 1, \"bbox\": [50, 60, 100, 150], \"category_id\": 1}]\n",
        "category_map = {1: \"person\"}\n",
        "image_dir = \"/content/drive/MyDrive/Colab Notebooks/images\"\n",
        "dataset = CocoDataset(images, annotations, category_map, image_dir)\n",
        "dataset.visualize_image(0)\n"
      ],
      "metadata": {
        "colab": {
          "base_uri": "https://localhost:8080/",
          "height": 335
        },
        "id": "-F42I_iS5KZw",
        "outputId": "6ab8fd57-baca-4362-b0ff-79ef79fb6bbf"
      },
      "execution_count": 28,
      "outputs": [
        {
          "output_type": "error",
          "ename": "FileNotFoundError",
          "evalue": "Image not found at path: /content/drive/MyDrive/Colab Notebooks/images/000000000872.jpg",
          "traceback": [
            "\u001b[0;31m---------------------------------------------------------------------------\u001b[0m",
            "\u001b[0;31mFileNotFoundError\u001b[0m                         Traceback (most recent call last)",
            "\u001b[0;32m<ipython-input-28-054c0978b7f0>\u001b[0m in \u001b[0;36m<cell line: 109>\u001b[0;34m()\u001b[0m\n\u001b[1;32m    107\u001b[0m \u001b[0;31m# Initialize the dataset and visualize the first image\u001b[0m\u001b[0;34m\u001b[0m\u001b[0;34m\u001b[0m\u001b[0m\n\u001b[1;32m    108\u001b[0m \u001b[0mdataset\u001b[0m \u001b[0;34m=\u001b[0m \u001b[0mCocoDataset\u001b[0m\u001b[0;34m(\u001b[0m\u001b[0mimages\u001b[0m\u001b[0;34m,\u001b[0m \u001b[0mannotations\u001b[0m\u001b[0;34m,\u001b[0m \u001b[0mcategory_map\u001b[0m\u001b[0;34m,\u001b[0m \u001b[0mimage_dir\u001b[0m\u001b[0;34m)\u001b[0m\u001b[0;34m\u001b[0m\u001b[0;34m\u001b[0m\u001b[0m\n\u001b[0;32m--> 109\u001b[0;31m \u001b[0mdataset\u001b[0m\u001b[0;34m.\u001b[0m\u001b[0mvisualize_image\u001b[0m\u001b[0;34m(\u001b[0m\u001b[0;36m0\u001b[0m\u001b[0;34m)\u001b[0m\u001b[0;34m\u001b[0m\u001b[0;34m\u001b[0m\u001b[0m\n\u001b[0m",
            "\u001b[0;32m<ipython-input-28-054c0978b7f0>\u001b[0m in \u001b[0;36mvisualize_image\u001b[0;34m(self, idx)\u001b[0m\n\u001b[1;32m     77\u001b[0m     \u001b[0;32mdef\u001b[0m \u001b[0mvisualize_image\u001b[0m\u001b[0;34m(\u001b[0m\u001b[0mself\u001b[0m\u001b[0;34m,\u001b[0m \u001b[0midx\u001b[0m\u001b[0;34m)\u001b[0m\u001b[0;34m:\u001b[0m\u001b[0;34m\u001b[0m\u001b[0;34m\u001b[0m\u001b[0m\n\u001b[1;32m     78\u001b[0m         \u001b[0;31m# Get image and target from dataset\u001b[0m\u001b[0;34m\u001b[0m\u001b[0;34m\u001b[0m\u001b[0m\n\u001b[0;32m---> 79\u001b[0;31m         \u001b[0mimage\u001b[0m\u001b[0;34m,\u001b[0m \u001b[0mtarget\u001b[0m \u001b[0;34m=\u001b[0m \u001b[0mself\u001b[0m\u001b[0;34m.\u001b[0m\u001b[0m__getitem__\u001b[0m\u001b[0;34m(\u001b[0m\u001b[0midx\u001b[0m\u001b[0;34m)\u001b[0m\u001b[0;34m\u001b[0m\u001b[0;34m\u001b[0m\u001b[0m\n\u001b[0m\u001b[1;32m     80\u001b[0m \u001b[0;34m\u001b[0m\u001b[0m\n\u001b[1;32m     81\u001b[0m         \u001b[0;31m# Convert the image tensor to a NumPy array for display\u001b[0m\u001b[0;34m\u001b[0m\u001b[0;34m\u001b[0m\u001b[0m\n",
            "\u001b[0;32m<ipython-input-28-054c0978b7f0>\u001b[0m in \u001b[0;36m__getitem__\u001b[0;34m(self, idx)\u001b[0m\n\u001b[1;32m     35\u001b[0m         \u001b[0;31m# Check if the file exists\u001b[0m\u001b[0;34m\u001b[0m\u001b[0;34m\u001b[0m\u001b[0m\n\u001b[1;32m     36\u001b[0m         \u001b[0;32mif\u001b[0m \u001b[0;32mnot\u001b[0m \u001b[0mos\u001b[0m\u001b[0;34m.\u001b[0m\u001b[0mpath\u001b[0m\u001b[0;34m.\u001b[0m\u001b[0mexists\u001b[0m\u001b[0;34m(\u001b[0m\u001b[0mimg_path\u001b[0m\u001b[0;34m)\u001b[0m\u001b[0;34m:\u001b[0m\u001b[0;34m\u001b[0m\u001b[0;34m\u001b[0m\u001b[0m\n\u001b[0;32m---> 37\u001b[0;31m             \u001b[0;32mraise\u001b[0m \u001b[0mFileNotFoundError\u001b[0m\u001b[0;34m(\u001b[0m\u001b[0;34mf\"Image not found at path: {img_path}\"\u001b[0m\u001b[0;34m)\u001b[0m\u001b[0;34m\u001b[0m\u001b[0;34m\u001b[0m\u001b[0m\n\u001b[0m\u001b[1;32m     38\u001b[0m \u001b[0;34m\u001b[0m\u001b[0m\n\u001b[1;32m     39\u001b[0m         \u001b[0;31m# Read and check if the image was loaded correctly\u001b[0m\u001b[0;34m\u001b[0m\u001b[0;34m\u001b[0m\u001b[0m\n",
            "\u001b[0;31mFileNotFoundError\u001b[0m: Image not found at path: /content/drive/MyDrive/Colab Notebooks/images/000000000872.jpg"
          ]
        }
      ]
    }
  ]
}